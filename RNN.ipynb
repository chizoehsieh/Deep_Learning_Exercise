{
 "cells": [
  {
   "cell_type": "code",
   "execution_count": 11,
   "metadata": {},
   "outputs": [],
   "source": [
    "from keras.models import Sequential\n",
    "from keras.layers import Dense, Activation, Dropout\n",
    "from keras.layers.recurrent import SimpleRNN, LSTM, GRU\n",
    "from keras.utils import np_utils\n",
    "%matplotlib inline\n",
    "import numpy as np\n",
    "import matplotlib.pyplot as plt\n",
    "from keras.datasets import mnist\n",
    "(x_Train , y_Train),(x_Test , y_Test) = mnist.load_data()\n",
    "nb_classes = 10\n",
    "img_rows, img_cols = 28, 28 # 圖片的長與寬"
   ]
  },
  {
   "cell_type": "code",
   "execution_count": 13,
   "metadata": {},
   "outputs": [],
   "source": [
    "x_Train = x_Train.astype(float)\n",
    "x_Test = x_Test.astype(float)\n",
    "x_Train /= 255\n",
    "x_Test /= 255\n",
    "Y_train = np_utils.to_categorical(y_Train, nb_classes)\n",
    "Y_test = np_utils.to_categorical(y_Test, nb_classes)\n",
    "\n"
   ]
  },
  {
   "cell_type": "code",
   "execution_count": 14,
   "metadata": {},
   "outputs": [
    {
     "name": "stdout",
     "output_type": "stream",
     "text": [
      "Model: \"sequential_2\"\n",
      "_________________________________________________________________\n",
      "Layer (type)                 Output Shape              Param #   \n",
      "=================================================================\n",
      "lstm_2 (LSTM)                (None, 135)               88560     \n",
      "_________________________________________________________________\n",
      "dense_2 (Dense)              (None, 10)                1360      \n",
      "_________________________________________________________________\n",
      "activation_2 (Activation)    (None, 10)                0         \n",
      "=================================================================\n",
      "Total params: 89,920\n",
      "Trainable params: 89,920\n",
      "Non-trainable params: 0\n",
      "_________________________________________________________________\n",
      "None\n"
     ]
    }
   ],
   "source": [
    "nb_units = 135\n",
    "model = Sequential()\n",
    "\n",
    "model.add(LSTM(nb_units,\n",
    "                input_shape=(img_rows, img_cols)))\n",
    "model.add(Dense(units=nb_classes))\n",
    "\n",
    "model.add(Activation('softmax'))\n",
    "model.compile(loss='categorical_crossentropy',\n",
    "                optimizer='adam',\n",
    "                metrics=['accuracy'])\n",
    "print(model.summary())"
   ]
  },
  {
   "cell_type": "code",
   "execution_count": 15,
   "metadata": {},
   "outputs": [
    {
     "name": "stdout",
     "output_type": "stream",
     "text": [
      "Epoch 1/10\n",
      "60000/60000 [==============================] - 31s 512us/step - loss: 0.5389 - accuracy: 0.8232\n",
      "Epoch 2/10\n",
      "60000/60000 [==============================] - 32s 538us/step - loss: 0.1478 - accuracy: 0.9552\n",
      "Epoch 3/10\n",
      "60000/60000 [==============================] - 27s 448us/step - loss: 0.1027 - accuracy: 0.9678\n",
      "Epoch 4/10\n",
      "60000/60000 [==============================] - 29s 485us/step - loss: 0.0749 - accuracy: 0.9766\n",
      "Epoch 5/10\n",
      "60000/60000 [==============================] - 27s 455us/step - loss: 0.0599 - accuracy: 0.9811\n",
      "Epoch 6/10\n",
      "60000/60000 [==============================] - 27s 456us/step - loss: 0.0523 - accuracy: 0.9838\n",
      "Epoch 7/10\n",
      "60000/60000 [==============================] - 30s 507us/step - loss: 0.0450 - accuracy: 0.9861\n",
      "Epoch 8/10\n",
      "60000/60000 [==============================] - 26s 433us/step - loss: 0.0372 - accuracy: 0.9882\n",
      "Epoch 9/10\n",
      "60000/60000 [==============================] - 30s 500us/step - loss: 0.0333 - accuracy: 0.9899\n",
      "Epoch 10/10\n",
      "60000/60000 [==============================] - 31s 518us/step - loss: 0.0298 - accuracy: 0.9906\n"
     ]
    },
    {
     "data": {
      "image/png": "[encoded data removed]",
      "text/plain": [
       "<Figure size 360x216 with 1 Axes>"
      ]
     },
     "metadata": {
      "needs_background": "light"
     },
     "output_type": "display_data"
    },
    {
     "data": {
      "image/png": "[encoded data removed]",
      "text/plain": [
       "<Figure size 360x216 with 1 Axes>"
      ]
     },
     "metadata": {
      "needs_background": "light"
     },
     "output_type": "display_data"
    }
   ],
   "source": [
    "epochs = 10\n",
    "history = model.fit(x_Train,\n",
    "                    Y_train,\n",
    "                    epochs=epochs,\n",
    "                    batch_size=128,\n",
    "                    verbose=1)\n",
    "plt.figure(figsize=(5,3))\n",
    "plt.plot(history.epoch,history.history['loss'])\n",
    "plt.title('loss')\n",
    "plt.figure(figsize=(5,3))\n",
    "plt.plot(history.epoch,history.history['accuracy'])\n",
    "plt.title('accuracy');"
   ]
  },
  {
   "cell_type": "code",
   "execution_count": 10,
   "metadata": {},
   "outputs": [
    {
     "name": "stdout",
     "output_type": "stream",
     "text": [
      "98.72000217437744 %\n"
     ]
    }
   ],
   "source": [
    "scores = model.evaluate(x_Test, Y_test, verbose=2)\n",
    "print(scores[1]*100, \"%\")"
   ]
  },
  {
   "cell_type": "code",
   "execution_count": null,
   "metadata": {},
   "outputs": [],
   "source": []
  }
 ],
 "metadata": {
  "kernelspec": {
   "display_name": "Python 3",
   "language": "python",
   "name": "python3"
  },
  "language_info": {
   "codemirror_mode": {
    "name": "ipython",
    "version": 3
   },
   "file_extension": ".py",
   "mimetype": "text/x-python",
   "name": "python",
   "nbconvert_exporter": "python",
   "pygments_lexer": "ipython3",
   "version": "3.7.9"
  }
 },
 "nbformat": 4,
 "nbformat_minor": 4
}
